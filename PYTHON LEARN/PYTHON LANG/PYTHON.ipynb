{
 "cells": [
  {
   "cell_type": "markdown",
   "id": "05b8b240",
   "metadata": {},
   "source": [
    "# INTRODUCTION TO PYTHON "
   ]
  },
  {
   "cell_type": "markdown",
   "id": "686643a3",
   "metadata": {},
   "source": [
    "### HISTORY OF PYTHON"
   ]
  },
  {
   "cell_type": "markdown",
   "id": "f4cf8609",
   "metadata": {},
   "source": [
    "Python is a general purpose, dynamic, high-level, and interpreted programming language. It supports Object Oriented programming approach to develop applications. It is simple and easy to learn and provides lots of high-level data structures.\n",
    "\n",
    "Python is easy to learn yet powerful and versatile scripting language, which makes it attractive for Application Development.\n",
    "\n",
    "Python's syntax and dynamic typing with its interpreted nature make it an ideal language for scripting and rapid application development.\n",
    "\n",
    "Python supports multiple programming pattern, including object-oriented, imperative, and functional or procedural programming styles.\n",
    "\n",
    "Python is not intended to work in a particular area, such as web programming. That is why it is known as multipurpose programming language because it can be used with web, enterprise, 3D CAD, etc.\n",
    "\n",
    "We don't need to use data types to declare variable because it is dynamically typed so we can write a=10 to assign an integer value in an integer variable.\n",
    "\n",
    "Python makes the development and debugging fast because there is no compilation step included in Python development, and edit-test-debug cycle is very fast."
   ]
  },
  {
   "cell_type": "markdown",
   "id": "85bc46d9",
   "metadata": {},
   "source": [
    "#### BASICS"
   ]
  },
  {
   "cell_type": "code",
   "execution_count": 2,
   "id": "e6a8fcfb",
   "metadata": {},
   "outputs": [
    {
     "name": "stdout",
     "output_type": "stream",
     "text": [
      "Hello World\n"
     ]
    }
   ],
   "source": [
    "print(\"Hello World\")"
   ]
  },
  {
   "cell_type": "markdown",
   "id": "cfcff187",
   "metadata": {},
   "source": [
    "### Variables"
   ]
  },
  {
   "cell_type": "code",
   "execution_count": 7,
   "id": "cd0071a0",
   "metadata": {},
   "outputs": [
    {
     "name": "stdout",
     "output_type": "stream",
     "text": [
      "10\n",
      "agnisis\n",
      "30.234\n",
      "100\n",
      "Virtusa\n",
      "<class 'int'>\n",
      "<class 'str'>\n",
      "ECE\n",
      "ECE\n"
     ]
    }
   ],
   "source": [
    "num=10            #integer\n",
    "name=\"agnisis\"   #string\n",
    "marks=30.234    #float\n",
    "\n",
    "\n",
    "# Mentioning the type of variable ->type casting\n",
    "num1=int(100)\n",
    "CompanyName=str(\"Virtusa\")\n",
    "\n",
    "print(num)\n",
    "print(name)\n",
    "print(marks)\n",
    "print(num1)\n",
    "print(CompanyName)\n",
    "\n",
    "#find type of a variable \n",
    "\n",
    "print(type(num))\n",
    "print(type(CompanyName))\n",
    "\n",
    "\n",
    "\n",
    "#String variables can be declared either by using single or double quotes:\n",
    "\n",
    "branch='ECE'\n",
    "dept=\"ECE\"\n",
    "print(branch)\n",
    "print(dept)\n"
   ]
  },
  {
   "cell_type": "markdown",
   "id": "c2248fa6",
   "metadata": {},
   "source": [
    "Rules for naming variable in python\n",
    "\n",
    "\n",
    "A variable can have a short name (like x and y) or a more descriptive name (age, carname, total_volume).\n",
    "\n",
    "Rules for Python variables:\n",
    "A variable name must start with a letter or the underscore character\n",
    "\n",
    "A variable name cannot start with a number\n",
    "\n",
    "A variable name can only contain alpha-numeric characters and underscores (A-z, 0-9, and _ )\n",
    "\n",
    "Variable names are case-sensitive (age, Age and AGE are three different variables)\n",
    "\n",
    "A variable name cannot be any of the Python keywords.\n"
   ]
  },
  {
   "cell_type": "code",
   "execution_count": 13,
   "id": "6cd0544f",
   "metadata": {},
   "outputs": [
    {
     "name": "stdout",
     "output_type": "stream",
     "text": [
      "10\n",
      "23\n",
      "534\n",
      "10    #    10    #    10\n"
     ]
    }
   ],
   "source": [
    "a,b,c=10,23,534\n",
    "print(a)\n",
    "print(b)\n",
    "print(c)\n",
    "\n",
    "\n",
    "a=b=c=10\n",
    "print(a,b,c,sep=\"    #    \")\n"
   ]
  },
  {
   "cell_type": "code",
   "execution_count": 14,
   "id": "3952316e",
   "metadata": {},
   "outputs": [
    {
     "name": "stdout",
     "output_type": "stream",
     "text": [
      "apple\n",
      "banana\n",
      "cherry\n"
     ]
    }
   ],
   "source": [
    "fruits = [\"apple\", \"banana\", \"cherry\"]\n",
    "x, y, z = fruits\n",
    "print(x)\n",
    "print(y)\n",
    "print(z)"
   ]
  },
  {
   "cell_type": "code",
   "execution_count": 29,
   "id": "48eb8167",
   "metadata": {},
   "outputs": [
    {
     "name": "stdout",
     "output_type": "stream",
     "text": [
      "Python is awesome \n",
      "Agnisis Dutta\n"
     ]
    }
   ],
   "source": [
    "x = \"Python \"\n",
    "y = \"is \"\n",
    "z = \"awesome \"\n",
    "print(x+y+z)\n",
    "\n",
    "\n",
    "firstName=\"Agnisis\"\n",
    "lastName=\"Dutta\"\n",
    "print(firstName+\" \"+lastName)\n"
   ]
  },
  {
   "cell_type": "code",
   "execution_count": 19,
   "id": "18b16265",
   "metadata": {},
   "outputs": [
    {
     "name": "stdout",
     "output_type": "stream",
     "text": [
      "30\n"
     ]
    }
   ],
   "source": [
    "x=10\n",
    "y=10\n",
    "z=10\n",
    "print(x+y+z)"
   ]
  },
  {
   "cell_type": "code",
   "execution_count": 31,
   "id": "09aa4484",
   "metadata": {},
   "outputs": [
    {
     "ename": "TypeError",
     "evalue": "can only concatenate str (not \"int\") to str",
     "output_type": "error",
     "traceback": [
      "\u001b[1;31m---------------------------------------------------------------------------\u001b[0m",
      "\u001b[1;31mTypeError\u001b[0m                                 Traceback (most recent call last)",
      "Cell \u001b[1;32mIn[31], line 4\u001b[0m\n\u001b[0;32m      2\u001b[0m name\u001b[38;5;241m=\u001b[39m\u001b[38;5;124m\"\u001b[39m\u001b[38;5;124magnisis\u001b[39m\u001b[38;5;124m\"\u001b[39m\n\u001b[0;32m      3\u001b[0m age\u001b[38;5;241m=\u001b[39m\u001b[38;5;241m18\u001b[39m\n\u001b[1;32m----> 4\u001b[0m \u001b[38;5;28mprint\u001b[39m(\u001b[43mname\u001b[49m\u001b[38;5;241;43m+\u001b[39;49m\u001b[43mage\u001b[49m)\n",
      "\u001b[1;31mTypeError\u001b[0m: can only concatenate str (not \"int\") to str"
     ]
    }
   ],
   "source": [
    "# when you try to combine a string and a number with the + operator, Python will give you an error:\n",
    "name=\"agnisis\"\n",
    "age=18\n",
    "print(name+age)"
   ]
  },
  {
   "cell_type": "code",
   "execution_count": 21,
   "id": "751933ec",
   "metadata": {},
   "outputs": [
    {
     "name": "stdout",
     "output_type": "stream",
     "text": [
      "agnisis 18\n"
     ]
    }
   ],
   "source": [
    "#The best way to output multiple variables in the print() function is to separate them with commas, which even support different data types:\n",
    "print(name,age)"
   ]
  },
  {
   "cell_type": "markdown",
   "id": "c29ac9d8",
   "metadata": {},
   "source": [
    "### Global Variables\n",
    "Variables that are created outside of a function are known as global variables.\n",
    "\n",
    "Global variables can be used by everyone, both inside of functions and outside."
   ]
  },
  {
   "cell_type": "code",
   "execution_count": 41,
   "id": "1bb4f63a",
   "metadata": {},
   "outputs": [
    {
     "name": "stdout",
     "output_type": "stream",
     "text": [
      "10\n"
     ]
    },
    {
     "ename": "NameError",
     "evalue": "name 'b1' is not defined",
     "output_type": "error",
     "traceback": [
      "\u001b[1;31m---------------------------------------------------------------------------\u001b[0m",
      "\u001b[1;31mNameError\u001b[0m                                 Traceback (most recent call last)",
      "Cell \u001b[1;32mIn[41], line 9\u001b[0m\n\u001b[0;32m      6\u001b[0m     \u001b[38;5;28mprint\u001b[39m(a)\n\u001b[0;32m      8\u001b[0m name()\n\u001b[1;32m----> 9\u001b[0m \u001b[38;5;28mprint\u001b[39m(\u001b[43mb1\u001b[49m)\n",
      "\u001b[1;31mNameError\u001b[0m: name 'b1' is not defined"
     ]
    }
   ],
   "source": [
    "a1=10\n",
    "\n",
    "\n",
    "def name():\n",
    "    b1=20\n",
    "    print(a)\n",
    "    \n",
    "name()\n",
    "print(b1)"
   ]
  },
  {
   "cell_type": "markdown",
   "id": "f8a3759d",
   "metadata": {},
   "source": [
    "Normally, when you create a variable inside a function, that variable is local, and can only be used inside that function.\n",
    "\n",
    "To create a global variable inside a function, you can use the global keyword."
   ]
  },
  {
   "cell_type": "code",
   "execution_count": 51,
   "id": "22ce153f",
   "metadata": {},
   "outputs": [
    {
     "name": "stdout",
     "output_type": "stream",
     "text": [
      "10\n"
     ]
    }
   ],
   "source": [
    "def fun():\n",
    "    global xw2\n",
    "    xw2=10\n",
    "fun()    \n",
    "    \n",
    "print(xw2)"
   ]
  },
  {
   "cell_type": "markdown",
   "id": "8ccb7a8c",
   "metadata": {},
   "source": [
    "## DATATYPES\n"
   ]
  },
  {
   "cell_type": "code",
   "execution_count": null,
   "id": "568c2ca3",
   "metadata": {},
   "outputs": [],
   "source": []
  }
 ],
 "metadata": {
  "kernelspec": {
   "display_name": "Python 3 (ipykernel)",
   "language": "python",
   "name": "python3"
  },
  "language_info": {
   "codemirror_mode": {
    "name": "ipython",
    "version": 3
   },
   "file_extension": ".py",
   "mimetype": "text/x-python",
   "name": "python",
   "nbconvert_exporter": "python",
   "pygments_lexer": "ipython3",
   "version": "3.10.8"
  }
 },
 "nbformat": 4,
 "nbformat_minor": 5
}
