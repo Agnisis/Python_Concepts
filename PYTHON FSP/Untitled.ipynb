{
 "cells": [
  {
   "cell_type": "markdown",
   "id": "dc58847e",
   "metadata": {},
   "source": [
    "print(\"helo\")\n",
    "\n"
   ]
  },
  {
   "cell_type": "code",
   "execution_count": 2,
   "id": "804c016c",
   "metadata": {},
   "outputs": [
    {
     "name": "stdout",
     "output_type": "stream",
     "text": [
      "40\n"
     ]
    }
   ],
   "source": [
    "x=10\n",
    "print(x<<2)"
   ]
  },
  {
   "cell_type": "code",
   "execution_count": 3,
   "id": "80b626f9",
   "metadata": {},
   "outputs": [
    {
     "name": "stdout",
     "output_type": "stream",
     "text": [
      "160\n"
     ]
    }
   ],
   "source": [
    "print(x<<4)"
   ]
  },
  {
   "cell_type": "code",
   "execution_count": 4,
   "id": "27685fff",
   "metadata": {},
   "outputs": [
    {
     "name": "stdout",
     "output_type": "stream",
     "text": [
      "2\n"
     ]
    }
   ],
   "source": [
    "print(x>>2)"
   ]
  },
  {
   "cell_type": "code",
   "execution_count": 5,
   "id": "12523cf9",
   "metadata": {},
   "outputs": [
    {
     "name": "stdout",
     "output_type": "stream",
     "text": [
      "0\n"
     ]
    }
   ],
   "source": [
    "print(x>>4)"
   ]
  },
  {
   "cell_type": "code",
   "execution_count": 11,
   "id": "427a1d8a",
   "metadata": {},
   "outputs": [
    {
     "name": "stdout",
     "output_type": "stream",
     "text": [
      "0\n",
      "1\n",
      "2\n",
      "3\n",
      "4\n",
      "6\n",
      "7\n",
      "8\n"
     ]
    }
   ],
   "source": [
    "for i in range(0, 9):\n",
    "     if i==5:\n",
    "       continue\n",
    "     print(i)"
   ]
  },
  {
   "cell_type": "code",
   "execution_count": 12,
   "id": "1c3c9cd3",
   "metadata": {},
   "outputs": [
    {
     "name": "stdout",
     "output_type": "stream",
     "text": [
      "Enter the number10\n",
      "Entered number is  10\n"
     ]
    }
   ],
   "source": [
    "x=int(input(\"Enter the number\"))\n",
    "assert x>0,\"Are you given wrong number\"\n",
    "print(\"Entered number is \",x)"
   ]
  },
  {
   "cell_type": "code",
   "execution_count": 13,
   "id": "65efad5a",
   "metadata": {},
   "outputs": [
    {
     "name": "stdout",
     "output_type": "stream",
     "text": [
      "Enter the number-40\n"
     ]
    },
    {
     "ename": "AssertionError",
     "evalue": "Are you given wrong number",
     "output_type": "error",
     "traceback": [
      "\u001b[1;31m---------------------------------------------------------------------------\u001b[0m",
      "\u001b[1;31mAssertionError\u001b[0m                            Traceback (most recent call last)",
      "Input \u001b[1;32mIn [13]\u001b[0m, in \u001b[0;36m<cell line: 2>\u001b[1;34m()\u001b[0m\n\u001b[0;32m      1\u001b[0m x\u001b[38;5;241m=\u001b[39m\u001b[38;5;28mint\u001b[39m(\u001b[38;5;28minput\u001b[39m(\u001b[38;5;124m\"\u001b[39m\u001b[38;5;124mEnter the number\u001b[39m\u001b[38;5;124m\"\u001b[39m))\n\u001b[1;32m----> 2\u001b[0m \u001b[38;5;28;01massert\u001b[39;00m x\u001b[38;5;241m>\u001b[39m\u001b[38;5;241m0\u001b[39m,\u001b[38;5;124m\"\u001b[39m\u001b[38;5;124mAre you given wrong number\u001b[39m\u001b[38;5;124m\"\u001b[39m\n\u001b[0;32m      3\u001b[0m \u001b[38;5;28mprint\u001b[39m(\u001b[38;5;124m\"\u001b[39m\u001b[38;5;124mEntered number is \u001b[39m\u001b[38;5;124m\"\u001b[39m,x)\n",
      "\u001b[1;31mAssertionError\u001b[0m: Are you given wrong number"
     ]
    }
   ],
   "source": [
    "x=int(input(\"Enter the number\"))\n",
    "assert x>0,\"Are you given wrong number\"\n",
    "print(\"Entered number is \",x)"
   ]
  },
  {
   "cell_type": "code",
   "execution_count": 14,
   "id": "d3604052",
   "metadata": {},
   "outputs": [
    {
     "ename": "SyntaxError",
     "evalue": "invalid syntax (206016727.py, line 2)",
     "output_type": "error",
     "traceback": [
      "\u001b[1;36m  Input \u001b[1;32mIn [14]\u001b[1;36m\u001b[0m\n\u001b[1;33m    print(78 are in l1)\u001b[0m\n\u001b[1;37m             ^\u001b[0m\n\u001b[1;31mSyntaxError\u001b[0m\u001b[1;31m:\u001b[0m invalid syntax\n"
     ]
    }
   ],
   "source": [
    "l1=[10,20,31,3]\n",
    "print(78 are in l1)"
   ]
  },
  {
   "cell_type": "code",
   "execution_count": 16,
   "id": "89220778",
   "metadata": {},
   "outputs": [
    {
     "name": "stdout",
     "output_type": "stream",
     "text": [
      "False\n"
     ]
    }
   ],
   "source": [
    "l1=[10,20,31,3]\n",
    "print(78  in l1)"
   ]
  },
  {
   "cell_type": "code",
   "execution_count": 18,
   "id": "e54c604a",
   "metadata": {},
   "outputs": [
    {
     "name": "stdout",
     "output_type": "stream",
     "text": [
      "True\n"
     ]
    }
   ],
   "source": [
    "print(31  in l1)"
   ]
  },
  {
   "cell_type": "code",
   "execution_count": 19,
   "id": "c11ecd91",
   "metadata": {},
   "outputs": [
    {
     "name": "stdout",
     "output_type": "stream",
     "text": [
      "False\n"
     ]
    },
    {
     "name": "stderr",
     "output_type": "stream",
     "text": [
      "<>:3: SyntaxWarning: \"is\" with a literal. Did you mean \"==\"?\n",
      "<>:3: SyntaxWarning: \"is\" with a literal. Did you mean \"==\"?\n",
      "C:\\Users\\agnisis\\AppData\\Local\\Temp\\ipykernel_2232\\3417992413.py:3: SyntaxWarning: \"is\" with a literal. Did you mean \"==\"?\n",
      "  print(l1 is 3)\n"
     ]
    }
   ],
   "source": [
    "l1=[10,20,30]\n",
    "l2=[12,34,56,67]\n",
    "print(l1 is 3)"
   ]
  },
  {
   "cell_type": "code",
   "execution_count": 1,
   "id": "6b962b51",
   "metadata": {},
   "outputs": [
    {
     "name": "stdout",
     "output_type": "stream",
     "text": [
      "False\n"
     ]
    },
    {
     "name": "stderr",
     "output_type": "stream",
     "text": [
      "<>:3: SyntaxWarning: \"is\" with a literal. Did you mean \"==\"?\n",
      "<>:3: SyntaxWarning: \"is\" with a literal. Did you mean \"==\"?\n",
      "C:\\Users\\agnisis\\AppData\\Local\\Temp\\ipykernel_11748\\3417992413.py:3: SyntaxWarning: \"is\" with a literal. Did you mean \"==\"?\n",
      "  print(l1 is 3)\n"
     ]
    }
   ],
   "source": [
    "l1=[10,20,30]\n",
    "l2=[12,34,56,67]\n",
    "print(l1 is 3)"
   ]
  },
  {
   "cell_type": "code",
   "execution_count": 21,
   "id": "15eb49ae",
   "metadata": {},
   "outputs": [
    {
     "data": {
      "text/plain": [
       "2404479756880"
      ]
     },
     "execution_count": 21,
     "metadata": {},
     "output_type": "execute_result"
    }
   ],
   "source": [
    "a=10\n",
    "b=10\n",
    "id(a)"
   ]
  },
  {
   "cell_type": "code",
   "execution_count": 22,
   "id": "41a4e710",
   "metadata": {},
   "outputs": [
    {
     "data": {
      "text/plain": [
       "2404479756880"
      ]
     },
     "execution_count": 22,
     "metadata": {},
     "output_type": "execute_result"
    }
   ],
   "source": [
    "id(b)"
   ]
  },
  {
   "cell_type": "code",
   "execution_count": 23,
   "id": "49e408e1",
   "metadata": {},
   "outputs": [
    {
     "name": "stdout",
     "output_type": "stream",
     "text": [
      "True\n"
     ]
    }
   ],
   "source": [
    "print(a is b)"
   ]
  },
  {
   "cell_type": "code",
   "execution_count": 24,
   "id": "94978bf1",
   "metadata": {},
   "outputs": [
    {
     "data": {
      "text/plain": [
       "list"
      ]
     },
     "execution_count": 24,
     "metadata": {},
     "output_type": "execute_result"
    }
   ],
   "source": [
    "x=list([10,20,30,40])\n",
    "type(x)"
   ]
  },
  {
   "cell_type": "code",
   "execution_count": 25,
   "id": "0959346d",
   "metadata": {},
   "outputs": [
    {
     "ename": "NameError",
     "evalue": "name 'li' is not defined",
     "output_type": "error",
     "traceback": [
      "\u001b[1;31m---------------------------------------------------------------------------\u001b[0m",
      "\u001b[1;31mNameError\u001b[0m                                 Traceback (most recent call last)",
      "Input \u001b[1;32mIn [25]\u001b[0m, in \u001b[0;36m<cell line: 2>\u001b[1;34m()\u001b[0m\n\u001b[0;32m      1\u001b[0m l1\u001b[38;5;241m=\u001b[39m[\u001b[38;5;241m10\u001b[39m,\u001b[38;5;241m20\u001b[39m,\u001b[38;5;241m49\u001b[39m,\u001b[38;5;124m\"\u001b[39m\u001b[38;5;124mHellow shilpi\u001b[39m\u001b[38;5;124m\"\u001b[39m]\n\u001b[1;32m----> 2\u001b[0m \u001b[43mli\u001b[49m\n",
      "\u001b[1;31mNameError\u001b[0m: name 'li' is not defined"
     ]
    }
   ],
   "source": [
    "l1=[10,20,49,\"Hellow shilpi\"]\n",
    "li"
   ]
  },
  {
   "cell_type": "code",
   "execution_count": 26,
   "id": "b4b327da",
   "metadata": {},
   "outputs": [
    {
     "data": {
      "text/plain": [
       "[10, 20, 49, 'Hellow shilpi']"
      ]
     },
     "execution_count": 26,
     "metadata": {},
     "output_type": "execute_result"
    }
   ],
   "source": [
    "l1=[10,20,49,\"Hellow shilpi\"]\n",
    "l1"
   ]
  },
  {
   "cell_type": "code",
   "execution_count": 27,
   "id": "c947649f",
   "metadata": {},
   "outputs": [
    {
     "name": "stdout",
     "output_type": "stream",
     "text": [
      "[10, 20, 49, 'Hellow shilpi']\n"
     ]
    }
   ],
   "source": [
    "l2=[10,20,49,\"Hellow shilpi\"]\n",
    "print(l2)"
   ]
  },
  {
   "cell_type": "code",
   "execution_count": 28,
   "id": "3b4e8313",
   "metadata": {},
   "outputs": [
    {
     "name": "stdout",
     "output_type": "stream",
     "text": [
      "10\n"
     ]
    }
   ],
   "source": [
    "print(l1[0])"
   ]
  },
  {
   "cell_type": "code",
   "execution_count": 30,
   "id": "df690a31",
   "metadata": {},
   "outputs": [
    {
     "name": "stdout",
     "output_type": "stream",
     "text": [
      "[10, 30, 40, 67, 80]\n"
     ]
    }
   ],
   "source": [
    "l3=[10,30,40,67,80]\n",
    "print(l3)"
   ]
  },
  {
   "cell_type": "code",
   "execution_count": 31,
   "id": "79dd928b",
   "metadata": {},
   "outputs": [
    {
     "name": "stdout",
     "output_type": "stream",
     "text": [
      "[30, 40]\n"
     ]
    }
   ],
   "source": [
    "l3=[10,30,40,67,80]\n",
    "print(l3[1:3])"
   ]
  },
  {
   "cell_type": "code",
   "execution_count": 32,
   "id": "4b3bc414",
   "metadata": {},
   "outputs": [
    {
     "name": "stdout",
     "output_type": "stream",
     "text": [
      "[10, 20, 'its my life its open high way']\n"
     ]
    }
   ],
   "source": [
    "l1=[10,20,\"its my life its open high way\"]\n",
    "print(l1)"
   ]
  },
  {
   "cell_type": "code",
   "execution_count": 33,
   "id": "2d7e2cab",
   "metadata": {},
   "outputs": [
    {
     "data": {
      "text/plain": [
       "['Ankan', 'Shilpi', 'Agni']"
      ]
     },
     "execution_count": 33,
     "metadata": {},
     "output_type": "execute_result"
    }
   ],
   "source": [
    "l1=[\"Ankan\",\"Shilpi\",\"Agni\"]\n",
    "l1"
   ]
  },
  {
   "cell_type": "markdown",
   "id": "a9c0e491",
   "metadata": {},
   "source": []
  },
  {
   "cell_type": "markdown",
   "id": "be713fdd",
   "metadata": {},
   "source": [
    "l2=list(range(0,10))\n",
    "print(l2)"
   ]
  },
  {
   "cell_type": "code",
   "execution_count": 38,
   "id": "6707ba81",
   "metadata": {},
   "outputs": [
    {
     "name": "stdout",
     "output_type": "stream",
     "text": [
      "[0, 1, 2, 3, 4, 5, 6, 7, 8, 9, 10, 11, 12, 13, 14, 15, 16, 17, 18, 19]\n"
     ]
    }
   ],
   "source": [
    "l3=list(range(0,20))\n",
    "print(l3)"
   ]
  },
  {
   "cell_type": "markdown",
   "id": "056f0b61",
   "metadata": {},
   "source": [
    "# Remove:remove element frome aparticular an element\n"
   ]
  },
  {
   "cell_type": "code",
   "execution_count": 45,
   "id": "ab0c1ab8",
   "metadata": {},
   "outputs": [
    {
     "name": "stdout",
     "output_type": "stream",
     "text": [
      "[10, 30, 5, 6, 7]\n"
     ]
    }
   ],
   "source": [
    "l4=[10,30,40,5,6,7]\n",
    "l4.pop(2)\n",
    "print(l4)"
   ]
  },
  {
   "cell_type": "raw",
   "id": "59d4df02",
   "metadata": {},
   "source": [
    "# sort the element of partricular list"
   ]
  },
  {
   "cell_type": "code",
   "execution_count": 46,
   "id": "f6cc2861",
   "metadata": {},
   "outputs": [
    {
     "name": "stdout",
     "output_type": "stream",
     "text": [
      "[9, 8, 7, 6, 5, 4, 3, 2, 1]\n"
     ]
    }
   ],
   "source": [
    "list=[1,2,3,4,5,6,7,8,9]\n",
    "list.reverse()\n",
    "print(list)"
   ]
  },
  {
   "cell_type": "markdown",
   "id": "990ccbe1",
   "metadata": {},
   "source": [
    "# using zip() function with list"
   ]
  },
  {
   "cell_type": "markdown",
   "id": "e9260ad3",
   "metadata": {},
   "source": []
  },
  {
   "cell_type": "code",
   "execution_count": 1,
   "id": "613e6ef5",
   "metadata": {},
   "outputs": [
    {
     "name": "stdout",
     "output_type": "stream",
     "text": [
      "[(1, 'shilpi'), (2, 'agni'), (3, 'wiiuy'), (4, 'hui'), (5, 'fggg')]\n"
     ]
    }
   ],
   "source": [
    "roll_no=[1,2,3,4,5]\n",
    "names=['shilpi','agni','wiiuy','hui','fggg']\n",
    "data=list(zip(roll_no,names))\n",
    "print(data)"
   ]
  },
  {
   "cell_type": "markdown",
   "id": "ce005494",
   "metadata": {},
   "source": [
    "# tuple"
   ]
  },
  {
   "cell_type": "code",
   "execution_count": 1,
   "id": "4844d0ec",
   "metadata": {},
   "outputs": [],
   "source": [
    "tup2=(4,4,4,4,4,5,5,5,5,6,10,12)"
   ]
  },
  {
   "cell_type": "code",
   "execution_count": 2,
   "id": "5f222f43",
   "metadata": {},
   "outputs": [
    {
     "data": {
      "text/plain": [
       "5"
      ]
     },
     "execution_count": 2,
     "metadata": {},
     "output_type": "execute_result"
    }
   ],
   "source": [
    "tup2.count(4)"
   ]
  },
  {
   "cell_type": "code",
   "execution_count": 3,
   "id": "c0d514b2",
   "metadata": {},
   "outputs": [
    {
     "data": {
      "text/plain": [
       "4"
      ]
     },
     "execution_count": 3,
     "metadata": {},
     "output_type": "execute_result"
    }
   ],
   "source": [
    "tup2.count(5)"
   ]
  },
  {
   "cell_type": "code",
   "execution_count": 4,
   "id": "9bcabd29",
   "metadata": {},
   "outputs": [
    {
     "data": {
      "text/plain": [
       "1"
      ]
     },
     "execution_count": 4,
     "metadata": {},
     "output_type": "execute_result"
    }
   ],
   "source": [
    "tup2.count(12)"
   ]
  },
  {
   "cell_type": "markdown",
   "id": "b7fb85bb",
   "metadata": {},
   "source": [
    "# Dictionary"
   ]
  },
  {
   "cell_type": "code",
   "execution_count": 2,
   "id": "4d7aabed",
   "metadata": {},
   "outputs": [
    {
     "name": "stdout",
     "output_type": "stream",
     "text": [
      "3\n",
      "dict_keys(['name', 'marks', 'roll_no']) dict_values(['arun', 400, 10])\n"
     ]
    }
   ],
   "source": [
    "dic={'name':'arun','marks':400,'roll_no':10}\n",
    "n=len(dic)\n",
    "print(n)\n",
    "print(dic.keys(),dic.values())"
   ]
  },
  {
   "cell_type": "code",
   "execution_count": 6,
   "id": "5745d288",
   "metadata": {},
   "outputs": [
    {
     "name": "stdout",
     "output_type": "stream",
     "text": [
      "Help on NoneType object:\n",
      "\n",
      "class NoneType(object)\n",
      " |  Methods defined here:\n",
      " |  \n",
      " |  __bool__(self, /)\n",
      " |      True if self else False\n",
      " |  \n",
      " |  __repr__(self, /)\n",
      " |      Return repr(self).\n",
      " |  \n",
      " |  ----------------------------------------------------------------------\n",
      " |  Static methods defined here:\n",
      " |  \n",
      " |  __new__(*args, **kwargs) from builtins.type\n",
      " |      Create and return a new object.  See help(type) for accurate signature.\n",
      "\n"
     ]
    }
   ],
   "source": [
    "help(dic.clear())"
   ]
  },
  {
   "cell_type": "markdown",
   "id": "7f293a9e",
   "metadata": {},
   "source": [
    "x={}\n",
    "print(\"how many keys\")\n",
    "n=int(input())\n",
    "for i in range (n):\n",
    "    print(\"enter key \",end=\" \")\n",
    "    k=input()\n",
    "    print(\"enter value \",end=\" \")\n",
    "    v=int(input())\n",
    "    x.update({k:v})\n",
    "    print(x)"
   ]
  },
  {
   "cell_type": "code",
   "execution_count": 5,
   "id": "2602460b",
   "metadata": {},
   "outputs": [
    {
     "name": "stdout",
     "output_type": "stream",
     "text": [
      "dict_keys(['name', 'marks', 'roll_no']) dict_values(['arun', 400, 10])\n"
     ]
    }
   ],
   "source": [
    "print(dic.keys(),dic.values())"
   ]
  },
  {
   "cell_type": "code",
   "execution_count": 7,
   "id": "b40af8dd",
   "metadata": {},
   "outputs": [
    {
     "name": "stdout",
     "output_type": "stream",
     "text": [
      "enter the no of keys\n",
      "2\n",
      "enter keys\n",
      "s\n",
      "enter value\n",
      "2\n",
      "{'s': 2}\n",
      "enter keys\n",
      "1\n",
      "enter value\n",
      "3\n",
      "{'s': 2, '1': 3}\n"
     ]
    }
   ],
   "source": [
    "x={}\n",
    "print(\"enter the no of keys\")\n",
    "n=int(input())\n",
    "for i in range (n):\n",
    "    print(\"enter keys\")\n",
    "    k=input()\n",
    "    print(\"enter value\")\n",
    "    v=int(input())\n",
    "    x.update({k:v})\n",
    "print(x)"
   ]
  },
  {
   "cell_type": "markdown",
   "id": "6fd048e7",
   "metadata": {},
   "source": [
    "# functions ->>\n"
   ]
  },
  {
   "cell_type": "markdown",
   "id": "7ac3f443",
   "metadata": {},
   "source": [
    "# Advantage of Function"
   ]
  },
  {
   "cell_type": "markdown",
   "id": "51b822af",
   "metadata": {},
   "source": [
    "# Avoid repetition,modularization,Reduce size,save memory requirment"
   ]
  },
  {
   "cell_type": "code",
   "execution_count": 12,
   "id": "c0b590b4",
   "metadata": {},
   "outputs": [
    {
     "name": "stdout",
     "output_type": "stream",
     "text": [
      "Hello world....\n",
      "Hello world....\n",
      "Hello world....\n",
      "Hello world....\n",
      "Hello world....\n",
      "Hello world....\n"
     ]
    }
   ],
   "source": [
    "def print_msg():\n",
    "    #this function will display message#\n",
    "    print(\"Hello world....\")\n",
    "    \n",
    "    return\n",
    "print_msg()\n",
    "print_msg()\n",
    "print_msg()\n",
    "print_msg()\n",
    "print_msg()\n",
    "print_msg()"
   ]
  },
  {
   "cell_type": "code",
   "execution_count": 15,
   "id": "94c2bca1",
   "metadata": {},
   "outputs": [
    {
     "data": {
      "text/plain": [
       "101"
      ]
     },
     "execution_count": 15,
     "metadata": {},
     "output_type": "execute_result"
    }
   ],
   "source": [
    "def sum():\n",
    "  a=23\n",
    "  b=78\n",
    "  c=a+b\n",
    "  return c\n",
    "sum()"
   ]
  },
  {
   "cell_type": "code",
   "execution_count": 16,
   "id": "cc665673",
   "metadata": {},
   "outputs": [
    {
     "name": "stdout",
     "output_type": "stream",
     "text": [
      "c\n",
      "cpp\n",
      "c#\n",
      "python\n",
      "Electronics and communication\n",
      "computer science\n",
      "CSBS\n",
      "Civil\n"
     ]
    }
   ],
   "source": [
    "def print_msg(str1):\n",
    "    print(str1)\n",
    "    return\n",
    "\n",
    "print_msg(\"c\")\n",
    "print_msg(\"cpp\")\n",
    "print_msg(\"c#\")\n",
    "print_msg(\"python\")\n",
    "print_msg(\"Electronics and communication\")\n",
    "print_msg(\"computer science\")\n",
    "print_msg(\"CSBS\")\n",
    "print_msg(\"Civil\")\n"
   ]
  },
  {
   "cell_type": "code",
   "execution_count": 22,
   "id": "5de5fb80",
   "metadata": {},
   "outputs": [],
   "source": [
    "def even_odd(num):\n",
    "    if(num%2==0):\n",
    "        print(\"The number is even \".format(num))\n",
    "    else:\n",
    "        print(\"The number is odd \".format(num))"
   ]
  },
  {
   "cell_type": "code",
   "execution_count": 23,
   "id": "9bd16c1b",
   "metadata": {},
   "outputs": [
    {
     "name": "stdout",
     "output_type": "stream",
     "text": [
      "The number is odd \n"
     ]
    }
   ],
   "source": [
    "even_odd(21)"
   ]
  },
  {
   "cell_type": "code",
   "execution_count": 26,
   "id": "a91c828c",
   "metadata": {},
   "outputs": [
    {
     "name": "stdout",
     "output_type": "stream",
     "text": [
      "The value of a 10  b 20 c 30\n"
     ]
    }
   ],
   "source": [
    "a=10\n",
    "b=20\n",
    "c=30\n",
    "#the value of a is 10 b is 20 c is 30\n",
    "print(\"The value of a {0}  b {1} c {2}\".format(a,b,c))"
   ]
  },
  {
   "cell_type": "code",
   "execution_count": 31,
   "id": "b6fbb370",
   "metadata": {},
   "outputs": [
    {
     "name": "stdout",
     "output_type": "stream",
     "text": [
      "1\n",
      "2\n",
      "6\n",
      "24\n",
      "120\n",
      "720\n",
      "5040\n",
      "40320\n",
      "362880\n",
      "3628800\n"
     ]
    }
   ],
   "source": [
    "def fact(n):\n",
    "         \n",
    "       return\n",
    "\n",
    "\n",
    "fact()"
   ]
  },
  {
   "cell_type": "code",
   "execution_count": 4,
   "id": "ddf2b83e",
   "metadata": {},
   "outputs": [
    {
     "name": "stdout",
     "output_type": "stream",
     "text": [
      "the formal argument is  10\n",
      "total value  210\n"
     ]
    }
   ],
   "source": [
    "def add(farg,*args):\n",
    "    print(\"the formal argument is \",farg)\n",
    "    sum=0\n",
    "    for i in args:\n",
    "        sum+=i\n",
    "    print(\"total value \",(farg+sum))\n",
    "    return\n",
    "\n",
    "add(10,20,30,40,50,60)\n",
    "    "
   ]
  },
  {
   "cell_type": "code",
   "execution_count": 7,
   "id": "53c24bbb",
   "metadata": {},
   "outputs": [
    {
     "name": "stdout",
     "output_type": "stream",
     "text": [
      "formal argument 1\n",
      "the key is name and the value is a\n",
      "the key is roll and the value is 1\n",
      "the key is marks and the value is 600\n",
      "the key is grade and the value is first\n"
     ]
    }
   ],
   "source": [
    "def display(farg,**kwargs):\n",
    "    print(\"formal argument\",farg)\n",
    "    for x,y in kwargs.items():\n",
    "        print(\"the key is {} and the value is {}\".format(x,y))\n",
    "        \n",
    "display(1,name=\"a\",roll=1,marks=600,grade=\"first\")"
   ]
  },
  {
   "cell_type": "code",
   "execution_count": 9,
   "id": "053b7d33",
   "metadata": {},
   "outputs": [
    {
     "data": {
      "text/plain": [
       "['the numbr 1 is odd',\n",
       " 'the numbr 2 is even',\n",
       " 'the numbr 3 is odd',\n",
       " 'the numbr 4 is even',\n",
       " 'the numbr 5 is odd',\n",
       " 'the numbr 6 is even',\n",
       " 'the numbr 7 is odd',\n",
       " 'the numbr 8 is even',\n",
       " 'the numbr 9 is odd',\n",
       " 'the numbr 10 is even']"
      ]
     },
     "execution_count": 9,
     "metadata": {},
     "output_type": "execute_result"
    }
   ],
   "source": [
    "def even_odd(num):\n",
    "    if(num%2==0):\n",
    "        return \"the numbr {} is even\".format(num)\n",
    "    else:\n",
    "        return \"the numbr {} is odd\".format(num)\n",
    "    \n",
    "l1=[1,2,3,4,5,6,7,8,9,10]\n",
    "list(map(even_odd,l1))"
   ]
  },
  {
   "cell_type": "markdown",
   "id": "6208e532",
   "metadata": {},
   "source": [
    "## lambda function"
   ]
  },
  {
   "cell_type": "code",
   "execution_count": 11,
   "id": "963f3618",
   "metadata": {},
   "outputs": [
    {
     "name": "stdout",
     "output_type": "stream",
     "text": [
      "25\n"
     ]
    }
   ],
   "source": [
    "x=lambda a: a*a\n",
    "value=x(5) \n",
    "print (value)"
   ]
  },
  {
   "cell_type": "code",
   "execution_count": 13,
   "id": "63fc8552",
   "metadata": {},
   "outputs": [
    {
     "name": "stdout",
     "output_type": "stream",
     "text": [
      "[2, 6, 8]\n"
     ]
    }
   ],
   "source": [
    "l1=[1,2,3,.4,5,6,7,8,9]\n",
    "l2=list(filter(lambda x: (x%2==0),l1))# filter helpes to filter on.ly the true result\n",
    "print(l2)"
   ]
  },
  {
   "cell_type": "markdown",
   "id": "1f8b5c96",
   "metadata": {},
   "source": [
    "# oops"
   ]
  },
  {
   "cell_type": "code",
   "execution_count": 16,
   "id": "9b7f1bf9",
   "metadata": {},
   "outputs": [
    {
     "name": "stdout",
     "output_type": "stream",
     "text": [
      "2629618903088\n",
      "2629639039296\n",
      "2629639037184\n"
     ]
    }
   ],
   "source": [
    "class car ():\n",
    "    \n",
    "    pass\n",
    "\n",
    "c1=car()\n",
    "c2=car()\n",
    "print(id(car))\n",
    "print(id(c1))\n",
    "print(id(c2))"
   ]
  },
  {
   "cell_type": "code",
   "execution_count": 2,
   "id": "fdab2c44",
   "metadata": {},
   "outputs": [
    {
     "name": "stdout",
     "output_type": "stream",
     "text": [
      "Hi i am  Arjun\n",
      "My name is   25\n",
      "My marks is  900\n"
     ]
    }
   ],
   "source": [
    "class Student():\n",
    "    #self is default variable that contains the memery address of the instance \n",
    "    def __init__(self):\n",
    "        self.name=\"Arjun\"\n",
    "        self.age=25\n",
    "        self.marks=900\n",
    "    def display(self):#method\n",
    "        print(\"Hi i am \",self.name)\n",
    "        print(\"My name is  \",self.age)\n",
    "        print(\"My marks is \",self.marks)\n",
    "s1=Student()\n",
    "s1.display()\n",
    "        "
   ]
  },
  {
   "cell_type": "code",
   "execution_count": 3,
   "id": "2e07e1df",
   "metadata": {},
   "outputs": [
    {
     "name": "stdout",
     "output_type": "stream",
     "text": [
      "Hi i am  .\n",
      "My marks is  0\n",
      "Hi i am  Vivek\n",
      "My marks is  600\n"
     ]
    }
   ],
   "source": [
    "class Student():\n",
    "    #self is default variable that contains the memery address of the instance \n",
    "    def __init__(self,n='.',m=0):\n",
    "        self.name=n\n",
    "        self.marks=m\n",
    "    def display(self):#method\n",
    "        print(\"Hi i am \",self.name)\n",
    "        print(\"My marks is \",self.marks)\n",
    "s1=Student()\n",
    "s2=Student('Vivek',600)\n",
    "s1.display()\n",
    "s2.display()"
   ]
  },
  {
   "cell_type": "code",
   "execution_count": 4,
   "id": "58a2386f",
   "metadata": {},
   "outputs": [
    {
     "name": "stdout",
     "output_type": "stream",
     "text": [
      "The brand of my car is Tata and color is Red \n",
      "The brand of my car is Maruti and color is Blue \n"
     ]
    }
   ],
   "source": [
    "class Car:\n",
    "    def __init__(self,brand,color):\n",
    "        self.brand=brand #instance variable brand\n",
    "        self.color=color #2nd instance variable\n",
    "    def display(self):\n",
    "        print(\"The brand of my car is {0} and color is {1} \".format(self.brand,self.color))\n",
    "c1=Car(\"Tata\",'Red')\n",
    "c2=Car(\"Maruti\",'Blue')\n",
    "c1.display()\n",
    "\n",
    "c2.display()"
   ]
  },
  {
   "cell_type": "code",
   "execution_count": null,
   "id": "39080e87",
   "metadata": {},
   "outputs": [],
   "source": []
  },
  {
   "cell_type": "code",
   "execution_count": null,
   "id": "7007cd34",
   "metadata": {},
   "outputs": [],
   "source": []
  }
 ],
 "metadata": {
  "kernelspec": {
   "display_name": "Python 3 (ipykernel)",
   "language": "python",
   "name": "python3"
  },
  "language_info": {
   "codemirror_mode": {
    "name": "ipython",
    "version": 3
   },
   "file_extension": ".py",
   "mimetype": "text/x-python",
   "name": "python",
   "nbconvert_exporter": "python",
   "pygments_lexer": "ipython3",
   "version": "3.9.12"
  }
 },
 "nbformat": 4,
 "nbformat_minor": 5
}
