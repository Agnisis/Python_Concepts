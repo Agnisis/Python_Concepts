{
 "cells": [
  {
   "cell_type": "code",
   "execution_count": 6,
   "id": "da8abd16",
   "metadata": {},
   "outputs": [],
   "source": [
    "class student:\n",
    "    def __init__(self, name='.', marks=0):\n",
    "        self.name = name\n",
    "        self.marks = marks\n",
    "\n",
    "    def display(self):\n",
    "        print(\"name is \", self.name)\n",
    "        print(\"marks is \", self.marks)\n",
    "\n",
    "    def calculate(self):\n",
    "        if(marks >= 600):\n",
    "            print(\"first\")\n",
    "        elif(marks >= 500):\n",
    "            print(\"second\")\n",
    "        elif(marks >= 350):\n",
    "            print(\"third\")\n",
    "        else:\n",
    "            print(\"fail\")\n",
    "\n",
    "n = int(input(\"how many nos of student ?\"))\n",
    "i = 0\n",
    "while(i < n):\n",
    "    name = input(\"enter name \")\n",
    "    marks =int(input(\"enter marks\"))\n",
    "\n",
    "    s = student(name, marks)\n",
    "    s.display()\n",
    "    s.calculate()\n",
    "    i = i+1\n",
    "    print(\"...................\")\n"
   ]
  },
  {
   "cell_type": "code",
   "execution_count": null,
   "id": "9400ddfa",
   "metadata": {},
   "outputs": [],
   "source": []
  },
  {
   "cell_type": "markdown",
   "id": "82d16ae3",
   "metadata": {},
   "source": [
    "# "
   ]
  }
 ],
 "metadata": {
  "kernelspec": {
   "display_name": "Python 3 (ipykernel)",
   "language": "python",
   "name": "python3"
  },
  "language_info": {
   "codemirror_mode": {
    "name": "ipython",
    "version": 3
   },
   "file_extension": ".py",
   "mimetype": "text/x-python",
   "name": "python",
   "nbconvert_exporter": "python",
   "pygments_lexer": "ipython3",
   "version": "3.9.12"
  }
 },
 "nbformat": 4,
 "nbformat_minor": 5
}
