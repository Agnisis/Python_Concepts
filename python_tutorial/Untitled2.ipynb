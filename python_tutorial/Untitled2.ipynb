{
 "cells": [
  {
   "cell_type": "code",
   "execution_count": 6,
   "id": "b9efc39d",
   "metadata": {},
   "outputs": [],
   "source": [
    "class student:\n",
    "    def __init__(self, name='.', marks=0):\n",
    "        self.name = name\n",
    "        self.marks = marks\n",
    "\n",
    "    def display(self):\n",
    "        print(\"name is \", self.name)\n",
    "        print(\"marks is \", self.marks)\n",
    "\n",
    "    def calculate(self):\n",
    "        if(marks >= 600):\n",
    "            print(\"first\")\n",
    "        elif(marks >= 500):\n",
    "            print(\"second\")\n",
    "        elif(marks >= 350):\n",
    "            print(\"third\")\n",
    "        else:\n",
    "            print(\"fail\")\n",
    "\n",
    "n = int(input(\"how many nos of student ?\"))\n",
    "i = 0\n",
    "while(i < n):\n",
    "    name = input(\"enter name \")\n",
    "    marks =int(input(\"enter marks\"))\n",
    "\n",
    "    s = student(name, marks)\n",
    "    s.display()\n",
    "    s.calculate()\n",
    "    i = i+1\n",
    "    print(\"...................\")\n"
   ]
  },
  {
   "cell_type": "code",
   "execution_count": null,
   "id": "d87f0dd7",
   "metadata": {},
   "outputs": [],
   "source": [
    "class stu:\n",
    "    def setName(self,name):\n",
    "        self.name=name\n",
    "    def getName(self):\n",
    "        return self.name\n",
    "    def setMarks(self,marks):\n",
    "        self.marks=marks\n",
    "    def getMarks(self):\n",
    "        return self.marks\n",
    "n=int(input(\"how many students ?\"))\n",
    "i=0\n",
    "while(i<n):\n",
    "    s=stu\n",
    "    name=input(\"enter the name\")\n",
    "    s.setName(name)\n",
    "    marks=int(input(\"enter the marks\"))\n",
    "    s.setMarks(marks)\n",
    "    \n",
    "    \n",
    "    print(\" name is \",s.getName())\n",
    "    print(\" marks is \",s.getMarks())\n",
    "    i+=1\n",
    "    print(\"............\")\n",
    "    \n",
    "    \n",
    "    \n",
    "    "
   ]
  },
  {
   "cell_type": "code",
   "execution_count": null,
   "id": "0146b842",
   "metadata": {},
   "outputs": [],
   "source": []
  },
  {
   "cell_type": "code",
   "execution_count": null,
   "id": "e54dc711",
   "metadata": {},
   "outputs": [],
   "source": []
  }
 ],
 "metadata": {
  "kernelspec": {
   "display_name": "Python 3 (ipykernel)",
   "language": "python",
   "name": "python3"
  },
  "language_info": {
   "codemirror_mode": {
    "name": "ipython",
    "version": 3
   },
   "file_extension": ".py",
   "mimetype": "text/x-python",
   "name": "python",
   "nbconvert_exporter": "python",
   "pygments_lexer": "ipython3",
   "version": "3.9.12"
  }
 },
 "nbformat": 4,
 "nbformat_minor": 5
}
